{
 "cells": [
  {
   "cell_type": "code",
   "execution_count": 113,
   "id": "13d441c7-a573-46fe-80b2-85136bc0e3b1",
   "metadata": {
    "tags": []
   },
   "outputs": [],
   "source": [
    "# Import the BigQuery client library\n",
    "from google.cloud import bigquery\n",
    "\n",
    "# Set up BigQuery client\n",
    "client = bigquery.Client()\n",
    "state=\"SD\"\n",
    "# Your SQL query\n",
    "query = \"\"\"\n",
    "SELECT *\n",
    "FROM `roofai-404514.ML_DATA.SD_DATA`\n",
    "\"\"\"\n",
    "\n",
    "# Run the query and store results in Pandas DataFrame named df\n",
    "df = client.query(query).to_dataframe()\n"
   ]
  },
  {
   "cell_type": "code",
   "execution_count": 114,
   "id": "2be92ee7-ef06-4cf8-bd2f-c2ecacae5bfb",
   "metadata": {
    "tags": []
   },
   "outputs": [],
   "source": [
    "# df.head()"
   ]
  },
  {
   "cell_type": "code",
   "execution_count": 115,
   "id": "9433e4ce-0d63-4870-b63d-241b4fccaba2",
   "metadata": {
    "tags": []
   },
   "outputs": [],
   "source": [
    "# df.info()"
   ]
  },
  {
   "cell_type": "code",
   "execution_count": 116,
   "id": "132a6b52-6206-4157-919a-1bbab9e1d137",
   "metadata": {
    "tags": []
   },
   "outputs": [],
   "source": [
    "# df.isnull().sum()"
   ]
  },
  {
   "cell_type": "code",
   "execution_count": 117,
   "id": "484e4a7b-fa02-4e2a-9bae-f0c8abc721e3",
   "metadata": {
    "tags": []
   },
   "outputs": [],
   "source": [
    "# # Create a new column 'success' based on conditions using apply\n",
    "# df['success'] = df.apply(lambda row: 1 if (row['SOLD_PAST_12_MONTHS'] == 1) or (row['LISTED_PAST_12_MONTHS'] == 1) else 0, axis=1)\n"
   ]
  },
  {
   "cell_type": "code",
   "execution_count": 118,
   "id": "83661c82-4421-4168-a3fb-9bbdf75b04ff",
   "metadata": {
    "tags": []
   },
   "outputs": [],
   "source": [
    "# df"
   ]
  },
  {
   "cell_type": "code",
   "execution_count": 119,
   "id": "7a649c6f-1c8c-4fd7-b1bc-55b1b8bd81aa",
   "metadata": {
    "tags": []
   },
   "outputs": [
    {
     "data": {
      "text/plain": [
       "success\n",
       "0    308082\n",
       "1      6200\n",
       "Name: count, dtype: Int64"
      ]
     },
     "execution_count": 119,
     "metadata": {},
     "output_type": "execute_result"
    }
   ],
   "source": [
    "df['success'].round().value_counts()"
   ]
  },
  {
   "cell_type": "code",
   "execution_count": 120,
   "id": "4808600f-a61d-4a82-96d8-ae1ca89539cc",
   "metadata": {
    "scrolled": true,
    "tags": []
   },
   "outputs": [
    {
     "name": "stdout",
     "output_type": "stream",
     "text": [
      "Original DataFrame size: 314282\n",
      "train_df size: 12400, test_df size: 301949\n"
     ]
    }
   ],
   "source": [
    "import pandas as pd\n",
    "\n",
    "# Assuming df is your Pandas DataFrame\n",
    "\n",
    "# Define the desired number of rows for success values 1 and 0\n",
    "num_rows_success_1 = 6200\n",
    "num_rows_success_0 = 6200\n",
    "\n",
    "# Extract rows with 'success' value of 1\n",
    "df_success_1 = df[df['success'] == 1].sample(n=num_rows_success_1,replace=True)\n",
    "\n",
    "# Extract rows with 'success' value of 0\n",
    "df_success_0 = df[df['success'] == 0].sample(n=num_rows_success_0,replace=True)\n",
    "\n",
    "# Extract remaining rows for test_df\n",
    "test_df = df.drop(df_success_0.index)\n",
    "test_df.drop(test_df[test_df['success'] == 1].index, inplace=True)\n",
    "\n",
    "# Create new_df by concatenating rows for success values 1 and 0\n",
    "train_df = pd.concat([df_success_1, df_success_0])\n",
    "\n",
    "# Display the sizes of the resulting DataFrames\n",
    "print(f\"Original DataFrame size: {len(df)}\")\n",
    "print(f\"train_df size: {len(train_df)}, test_df size: {len(test_df)}\")\n"
   ]
  },
  {
   "cell_type": "code",
   "execution_count": 121,
   "id": "902835af-1f49-42c9-95b4-e81e05b56de1",
   "metadata": {
    "tags": []
   },
   "outputs": [
    {
     "data": {
      "text/plain": [
       "success\n",
       "1    6200\n",
       "0    6200\n",
       "Name: count, dtype: Int64"
      ]
     },
     "execution_count": 121,
     "metadata": {},
     "output_type": "execute_result"
    }
   ],
   "source": [
    "train_df['success'].round().value_counts()"
   ]
  },
  {
   "cell_type": "code",
   "execution_count": 122,
   "id": "36b165e5-15aa-4523-b5b0-1cb7f2ecaa8a",
   "metadata": {
    "tags": []
   },
   "outputs": [
    {
     "data": {
      "text/plain": [
       "success\n",
       "0    301949\n",
       "Name: count, dtype: Int64"
      ]
     },
     "execution_count": 122,
     "metadata": {},
     "output_type": "execute_result"
    }
   ],
   "source": [
    "test_df['success'].round().value_counts()"
   ]
  },
  {
   "cell_type": "code",
   "execution_count": 123,
   "id": "6185604d-c07c-496f-8168-ce4ce388d961",
   "metadata": {
    "tags": []
   },
   "outputs": [],
   "source": [
    "\n",
    "# Drop multiple columns\n",
    "columns_to_drop = ['ATTOM_ID','POTENTIAL_PROFIT','DATE_SOLD','SOL_PAST_12_MONTHS','DAYS_SINCE_LISTED','LAST_LISTED_DATE', 'SOLD_PAST_12_MONTHS','LISTED_PAST_12_MONTHS']\n",
    "train_df  = train_df .drop(columns=columns_to_drop, axis=1)\n"
   ]
  },
  {
   "cell_type": "code",
   "execution_count": 124,
   "id": "2de17e39-8108-4b47-8cd1-3320f92a1177",
   "metadata": {
    "tags": []
   },
   "outputs": [
    {
     "data": {
      "text/html": [
       "<div>\n",
       "<style scoped>\n",
       "    .dataframe tbody tr th:only-of-type {\n",
       "        vertical-align: middle;\n",
       "    }\n",
       "\n",
       "    .dataframe tbody tr th {\n",
       "        vertical-align: top;\n",
       "    }\n",
       "\n",
       "    .dataframe thead th {\n",
       "        text-align: right;\n",
       "    }\n",
       "</style>\n",
       "<table border=\"1\" class=\"dataframe\">\n",
       "  <thead>\n",
       "    <tr style=\"text-align: right;\">\n",
       "      <th></th>\n",
       "      <th>PROPERTY_ADDRESS_ZIP</th>\n",
       "      <th>COMPANY</th>\n",
       "      <th>STATE</th>\n",
       "      <th>COUNTY</th>\n",
       "      <th>MSA_CODE</th>\n",
       "      <th>DAYS_AGE_PROPERTY</th>\n",
       "      <th>LAND_USE_CODE</th>\n",
       "      <th>OWNER_OCCUPIED</th>\n",
       "      <th>TAX_ASSESSED_VALUE_TOTAL</th>\n",
       "      <th>AVM</th>\n",
       "      <th>...</th>\n",
       "      <th>RATIO_OWNERSHIP_TO_PROP_AGE</th>\n",
       "      <th>POOL</th>\n",
       "      <th>ALTV</th>\n",
       "      <th>FIRST_LOAN_AMORTIZED</th>\n",
       "      <th>EST_AVAILABLE_EQUITY</th>\n",
       "      <th>LOANTYPE_EQUITY</th>\n",
       "      <th>LOANTYPE_REFI</th>\n",
       "      <th>TOTAL_LOANS</th>\n",
       "      <th>TOTAL_OWNERS</th>\n",
       "      <th>success</th>\n",
       "    </tr>\n",
       "  </thead>\n",
       "  <tbody>\n",
       "    <tr>\n",
       "      <th>104587</th>\n",
       "      <td>57006</td>\n",
       "      <td>1</td>\n",
       "      <td>46</td>\n",
       "      <td>011</td>\n",
       "      <td>15100</td>\n",
       "      <td>43435</td>\n",
       "      <td>1001</td>\n",
       "      <td>0</td>\n",
       "      <td>162900</td>\n",
       "      <td>287900</td>\n",
       "      <td>...</td>\n",
       "      <td>NaN</td>\n",
       "      <td>&lt;NA&gt;</td>\n",
       "      <td>&lt;NA&gt;</td>\n",
       "      <td>&lt;NA&gt;</td>\n",
       "      <td>&lt;NA&gt;</td>\n",
       "      <td>0</td>\n",
       "      <td>0</td>\n",
       "      <td>3</td>\n",
       "      <td>1</td>\n",
       "      <td>1</td>\n",
       "    </tr>\n",
       "    <tr>\n",
       "      <th>234867</th>\n",
       "      <td>57701</td>\n",
       "      <td>0</td>\n",
       "      <td>46</td>\n",
       "      <td>103</td>\n",
       "      <td>39660</td>\n",
       "      <td>25915</td>\n",
       "      <td>1001</td>\n",
       "      <td>1</td>\n",
       "      <td>230300</td>\n",
       "      <td>290400</td>\n",
       "      <td>...</td>\n",
       "      <td>NaN</td>\n",
       "      <td>&lt;NA&gt;</td>\n",
       "      <td>&lt;NA&gt;</td>\n",
       "      <td>&lt;NA&gt;</td>\n",
       "      <td>&lt;NA&gt;</td>\n",
       "      <td>0</td>\n",
       "      <td>0</td>\n",
       "      <td>0</td>\n",
       "      <td>1</td>\n",
       "      <td>1</td>\n",
       "    </tr>\n",
       "    <tr>\n",
       "      <th>152828</th>\n",
       "      <td>57108</td>\n",
       "      <td>0</td>\n",
       "      <td>46</td>\n",
       "      <td>083</td>\n",
       "      <td>43620</td>\n",
       "      <td>&lt;NA&gt;</td>\n",
       "      <td>1001</td>\n",
       "      <td>1</td>\n",
       "      <td>276304</td>\n",
       "      <td>484900</td>\n",
       "      <td>...</td>\n",
       "      <td>NaN</td>\n",
       "      <td>&lt;NA&gt;</td>\n",
       "      <td>27</td>\n",
       "      <td>130816</td>\n",
       "      <td>357184</td>\n",
       "      <td>1</td>\n",
       "      <td>0</td>\n",
       "      <td>3</td>\n",
       "      <td>1</td>\n",
       "      <td>1</td>\n",
       "    </tr>\n",
       "    <tr>\n",
       "      <th>230239</th>\n",
       "      <td>57702</td>\n",
       "      <td>1</td>\n",
       "      <td>46</td>\n",
       "      <td>103</td>\n",
       "      <td>39660</td>\n",
       "      <td>21170</td>\n",
       "      <td>1001</td>\n",
       "      <td>0</td>\n",
       "      <td>303000</td>\n",
       "      <td>667100</td>\n",
       "      <td>...</td>\n",
       "      <td>NaN</td>\n",
       "      <td>&lt;NA&gt;</td>\n",
       "      <td>&lt;NA&gt;</td>\n",
       "      <td>&lt;NA&gt;</td>\n",
       "      <td>&lt;NA&gt;</td>\n",
       "      <td>0</td>\n",
       "      <td>0</td>\n",
       "      <td>0</td>\n",
       "      <td>1</td>\n",
       "      <td>1</td>\n",
       "    </tr>\n",
       "    <tr>\n",
       "      <th>199170</th>\n",
       "      <td>57103</td>\n",
       "      <td>1</td>\n",
       "      <td>46</td>\n",
       "      <td>099</td>\n",
       "      <td>43620</td>\n",
       "      <td>48545</td>\n",
       "      <td>1001</td>\n",
       "      <td>0</td>\n",
       "      <td>104400</td>\n",
       "      <td>207700</td>\n",
       "      <td>...</td>\n",
       "      <td>NaN</td>\n",
       "      <td>&lt;NA&gt;</td>\n",
       "      <td>51</td>\n",
       "      <td>&lt;NA&gt;</td>\n",
       "      <td>80423</td>\n",
       "      <td>1</td>\n",
       "      <td>0</td>\n",
       "      <td>3</td>\n",
       "      <td>1</td>\n",
       "      <td>1</td>\n",
       "    </tr>\n",
       "    <tr>\n",
       "      <th>...</th>\n",
       "      <td>...</td>\n",
       "      <td>...</td>\n",
       "      <td>...</td>\n",
       "      <td>...</td>\n",
       "      <td>...</td>\n",
       "      <td>...</td>\n",
       "      <td>...</td>\n",
       "      <td>...</td>\n",
       "      <td>...</td>\n",
       "      <td>...</td>\n",
       "      <td>...</td>\n",
       "      <td>...</td>\n",
       "      <td>...</td>\n",
       "      <td>...</td>\n",
       "      <td>...</td>\n",
       "      <td>...</td>\n",
       "      <td>...</td>\n",
       "      <td>...</td>\n",
       "      <td>...</td>\n",
       "      <td>...</td>\n",
       "      <td>...</td>\n",
       "    </tr>\n",
       "    <tr>\n",
       "      <th>77832</th>\n",
       "      <td></td>\n",
       "      <td>0</td>\n",
       "      <td>46</td>\n",
       "      <td>121</td>\n",
       "      <td></td>\n",
       "      <td>&lt;NA&gt;</td>\n",
       "      <td>7777</td>\n",
       "      <td>0</td>\n",
       "      <td>&lt;NA&gt;</td>\n",
       "      <td>&lt;NA&gt;</td>\n",
       "      <td>...</td>\n",
       "      <td>NaN</td>\n",
       "      <td>&lt;NA&gt;</td>\n",
       "      <td>&lt;NA&gt;</td>\n",
       "      <td>&lt;NA&gt;</td>\n",
       "      <td>&lt;NA&gt;</td>\n",
       "      <td>0</td>\n",
       "      <td>0</td>\n",
       "      <td>0</td>\n",
       "      <td>4</td>\n",
       "      <td>0</td>\n",
       "    </tr>\n",
       "    <tr>\n",
       "      <th>8593</th>\n",
       "      <td></td>\n",
       "      <td>0</td>\n",
       "      <td>46</td>\n",
       "      <td>069</td>\n",
       "      <td></td>\n",
       "      <td>&lt;NA&gt;</td>\n",
       "      <td>&lt;NA&gt;</td>\n",
       "      <td>0</td>\n",
       "      <td>&lt;NA&gt;</td>\n",
       "      <td>&lt;NA&gt;</td>\n",
       "      <td>...</td>\n",
       "      <td>NaN</td>\n",
       "      <td>&lt;NA&gt;</td>\n",
       "      <td>&lt;NA&gt;</td>\n",
       "      <td>&lt;NA&gt;</td>\n",
       "      <td>&lt;NA&gt;</td>\n",
       "      <td>0</td>\n",
       "      <td>0</td>\n",
       "      <td>0</td>\n",
       "      <td>4</td>\n",
       "      <td>0</td>\n",
       "    </tr>\n",
       "    <tr>\n",
       "      <th>144675</th>\n",
       "      <td>57783</td>\n",
       "      <td>0</td>\n",
       "      <td>46</td>\n",
       "      <td>081</td>\n",
       "      <td>43940</td>\n",
       "      <td>6570</td>\n",
       "      <td>1001</td>\n",
       "      <td>1</td>\n",
       "      <td>423810</td>\n",
       "      <td>446000</td>\n",
       "      <td>...</td>\n",
       "      <td>NaN</td>\n",
       "      <td>&lt;NA&gt;</td>\n",
       "      <td>&lt;NA&gt;</td>\n",
       "      <td>&lt;NA&gt;</td>\n",
       "      <td>&lt;NA&gt;</td>\n",
       "      <td>0</td>\n",
       "      <td>0</td>\n",
       "      <td>3</td>\n",
       "      <td>2</td>\n",
       "      <td>0</td>\n",
       "    </tr>\n",
       "    <tr>\n",
       "      <th>26768</th>\n",
       "      <td>57701</td>\n",
       "      <td>0</td>\n",
       "      <td>46</td>\n",
       "      <td>103</td>\n",
       "      <td>39660</td>\n",
       "      <td>27375</td>\n",
       "      <td>1101</td>\n",
       "      <td>0</td>\n",
       "      <td>362600</td>\n",
       "      <td>216000</td>\n",
       "      <td>...</td>\n",
       "      <td>NaN</td>\n",
       "      <td>&lt;NA&gt;</td>\n",
       "      <td>&lt;NA&gt;</td>\n",
       "      <td>&lt;NA&gt;</td>\n",
       "      <td>&lt;NA&gt;</td>\n",
       "      <td>0</td>\n",
       "      <td>0</td>\n",
       "      <td>3</td>\n",
       "      <td>1</td>\n",
       "      <td>0</td>\n",
       "    </tr>\n",
       "    <tr>\n",
       "      <th>149986</th>\n",
       "      <td>57783</td>\n",
       "      <td>0</td>\n",
       "      <td>46</td>\n",
       "      <td>081</td>\n",
       "      <td>43940</td>\n",
       "      <td>17885</td>\n",
       "      <td>1001</td>\n",
       "      <td>0</td>\n",
       "      <td>50000</td>\n",
       "      <td>216400</td>\n",
       "      <td>...</td>\n",
       "      <td>NaN</td>\n",
       "      <td>&lt;NA&gt;</td>\n",
       "      <td>&lt;NA&gt;</td>\n",
       "      <td>&lt;NA&gt;</td>\n",
       "      <td>&lt;NA&gt;</td>\n",
       "      <td>0</td>\n",
       "      <td>0</td>\n",
       "      <td>0</td>\n",
       "      <td>3</td>\n",
       "      <td>0</td>\n",
       "    </tr>\n",
       "  </tbody>\n",
       "</table>\n",
       "<p>12400 rows × 31 columns</p>\n",
       "</div>"
      ],
      "text/plain": [
       "       PROPERTY_ADDRESS_ZIP  COMPANY STATE COUNTY MSA_CODE  DAYS_AGE_PROPERTY  \\\n",
       "104587                57006        1    46    011    15100              43435   \n",
       "234867                57701        0    46    103    39660              25915   \n",
       "152828                57108        0    46    083    43620               <NA>   \n",
       "230239                57702        1    46    103    39660              21170   \n",
       "199170                57103        1    46    099    43620              48545   \n",
       "...                     ...      ...   ...    ...      ...                ...   \n",
       "77832                              0    46    121                        <NA>   \n",
       "8593                               0    46    069                        <NA>   \n",
       "144675                57783        0    46    081    43940               6570   \n",
       "26768                 57701        0    46    103    39660              27375   \n",
       "149986                57783        0    46    081    43940              17885   \n",
       "\n",
       "        LAND_USE_CODE  OWNER_OCCUPIED  TAX_ASSESSED_VALUE_TOTAL     AVM  ...  \\\n",
       "104587           1001               0                    162900  287900  ...   \n",
       "234867           1001               1                    230300  290400  ...   \n",
       "152828           1001               1                    276304  484900  ...   \n",
       "230239           1001               0                    303000  667100  ...   \n",
       "199170           1001               0                    104400  207700  ...   \n",
       "...               ...             ...                       ...     ...  ...   \n",
       "77832            7777               0                      <NA>    <NA>  ...   \n",
       "8593             <NA>               0                      <NA>    <NA>  ...   \n",
       "144675           1001               1                    423810  446000  ...   \n",
       "26768            1101               0                    362600  216000  ...   \n",
       "149986           1001               0                     50000  216400  ...   \n",
       "\n",
       "        RATIO_OWNERSHIP_TO_PROP_AGE  POOL  ALTV FIRST_LOAN_AMORTIZED  \\\n",
       "104587                          NaN  <NA>  <NA>                 <NA>   \n",
       "234867                          NaN  <NA>  <NA>                 <NA>   \n",
       "152828                          NaN  <NA>    27               130816   \n",
       "230239                          NaN  <NA>  <NA>                 <NA>   \n",
       "199170                          NaN  <NA>    51                 <NA>   \n",
       "...                             ...   ...   ...                  ...   \n",
       "77832                           NaN  <NA>  <NA>                 <NA>   \n",
       "8593                            NaN  <NA>  <NA>                 <NA>   \n",
       "144675                          NaN  <NA>  <NA>                 <NA>   \n",
       "26768                           NaN  <NA>  <NA>                 <NA>   \n",
       "149986                          NaN  <NA>  <NA>                 <NA>   \n",
       "\n",
       "        EST_AVAILABLE_EQUITY LOANTYPE_EQUITY  LOANTYPE_REFI  TOTAL_LOANS  \\\n",
       "104587                  <NA>               0              0            3   \n",
       "234867                  <NA>               0              0            0   \n",
       "152828                357184               1              0            3   \n",
       "230239                  <NA>               0              0            0   \n",
       "199170                 80423               1              0            3   \n",
       "...                      ...             ...            ...          ...   \n",
       "77832                   <NA>               0              0            0   \n",
       "8593                    <NA>               0              0            0   \n",
       "144675                  <NA>               0              0            3   \n",
       "26768                   <NA>               0              0            3   \n",
       "149986                  <NA>               0              0            0   \n",
       "\n",
       "       TOTAL_OWNERS  success  \n",
       "104587            1        1  \n",
       "234867            1        1  \n",
       "152828            1        1  \n",
       "230239            1        1  \n",
       "199170            1        1  \n",
       "...             ...      ...  \n",
       "77832             4        0  \n",
       "8593              4        0  \n",
       "144675            2        0  \n",
       "26768             1        0  \n",
       "149986            3        0  \n",
       "\n",
       "[12400 rows x 31 columns]"
      ]
     },
     "execution_count": 124,
     "metadata": {},
     "output_type": "execute_result"
    }
   ],
   "source": [
    "train_df"
   ]
  },
  {
   "cell_type": "code",
   "execution_count": 125,
   "id": "3140449b-1cb3-4c4d-ac56-3339262ea8a7",
   "metadata": {
    "tags": []
   },
   "outputs": [],
   "source": [
    "# train_df.to_gbq('')  \n",
    "\n",
    "client = bigquery.Client()\n",
    "table_id = F'roofai-404514.ML_DATA.{state}_training_data'\n",
    "\n",
    "job = client.load_table_from_dataframe(\n",
    "    train_df, table_id\n",
    ")\n"
   ]
  },
  {
   "cell_type": "code",
   "execution_count": 126,
   "id": "5cd0d9b0-ff8f-436a-8aa0-a8c1b987d957",
   "metadata": {
    "tags": []
   },
   "outputs": [],
   "source": [
    "# train_df.to_gbq('')  \n",
    "\n",
    "client = bigquery.Client()\n",
    "table_id = f'roofai-404514.ML_DATA.{state}_testing_data'\n",
    "\n",
    "job = client.load_table_from_dataframe(\n",
    "    test_df, table_id\n",
    ")\n"
   ]
  },
  {
   "cell_type": "code",
   "execution_count": null,
   "id": "b9dc77fd-1efb-4714-bfe8-aa6e16e714c1",
   "metadata": {},
   "outputs": [],
   "source": []
  },
  {
   "cell_type": "code",
   "execution_count": null,
   "id": "8d492392-794f-4294-89ec-6d47f74a864a",
   "metadata": {},
   "outputs": [],
   "source": []
  },
  {
   "cell_type": "code",
   "execution_count": null,
   "id": "9e5ea054-f05d-40a3-a845-47daeab7560e",
   "metadata": {},
   "outputs": [],
   "source": []
  }
 ],
 "metadata": {
  "environment": {
   "kernel": "python3",
   "name": "tf2-cpu.2-11.m113",
   "type": "gcloud",
   "uri": "gcr.io/deeplearning-platform-release/tf2-cpu.2-11:m113"
  },
  "kernelspec": {
   "display_name": "Python 3",
   "language": "python",
   "name": "python3"
  },
  "language_info": {
   "codemirror_mode": {
    "name": "ipython",
    "version": 3
   },
   "file_extension": ".py",
   "mimetype": "text/x-python",
   "name": "python",
   "nbconvert_exporter": "python",
   "pygments_lexer": "ipython3",
   "version": "3.10.13"
  }
 },
 "nbformat": 4,
 "nbformat_minor": 5
}
